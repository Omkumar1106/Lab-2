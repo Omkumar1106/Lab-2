{
 "cells": [
  {
   "cell_type": "markdown",
   "id": "bf36ac6c",
   "metadata": {},
   "source": [
    "# Classification Model Comparison\n",
    "\n",
    "This notebook compares Logistic Regression, k-NN, and Decision Tree classifiers using the Wine dataset. It includes data preprocessing, model training, evaluation, and visualization."
   ]
  },
  {
   "cell_type": "code",
   "execution_count": null,
   "id": "1a82c8d8",
   "metadata": {},
   "outputs": [],
   "source": [
    "import pandas as pd\n",
    "import seaborn as sns\n",
    "import matplotlib.pyplot as plt\n",
    "from sklearn.datasets import load_wine\n",
    "from sklearn.model_selection import train_test_split\n",
    "from sklearn.preprocessing import StandardScaler\n",
    "from sklearn.linear_model import LogisticRegression\n",
    "from sklearn.neighbors import KNeighborsClassifier\n",
    "from sklearn.tree import DecisionTreeClassifier\n",
    "from sklearn.metrics import classification_report, confusion_matrix\n",
    "import numpy as np"
   ]
  },
  {
   "cell_type": "markdown",
   "id": "2c7f982f",
   "metadata": {},
   "source": [
    "## Load and Prepare Dataset"
   ]
  },
  {
   "cell_type": "code",
   "execution_count": null,
   "id": "73db18ab",
   "metadata": {},
   "outputs": [],
   "source": [
    "data = load_wine()\n",
    "X = pd.DataFrame(data.data, columns=data.feature_names)\n",
    "y = pd.Series(data.target)\n",
    "X_train, X_test, y_train, y_test = train_test_split(X, y, test_size=0.3, random_state=42)\n",
    "scaler = StandardScaler()\n",
    "X_train_scaled = scaler.fit_transform(X_train)\n",
    "X_test_scaled = scaler.transform(X_test)"
   ]
  },
  {
   "cell_type": "markdown",
   "id": "8d69a11d",
   "metadata": {},
   "source": [
    "## Train Models"
   ]
  },
  {
   "cell_type": "code",
   "execution_count": null,
   "id": "e10f3cec",
   "metadata": {},
   "outputs": [],
   "source": [
    "log_reg = LogisticRegression(max_iter=1000)\n",
    "knn = KNeighborsClassifier(n_neighbors=5)\n",
    "dt = DecisionTreeClassifier(random_state=42)\n",
    "\n",
    "log_reg.fit(X_train_scaled, y_train)\n",
    "knn.fit(X_train_scaled, y_train)\n",
    "dt.fit(X_train, y_train)"
   ]
  },
  {
   "cell_type": "markdown",
   "id": "51dd7417",
   "metadata": {},
   "source": [
    "## Predict and Evaluate"
   ]
  },
  {
   "cell_type": "code",
   "execution_count": null,
   "id": "fef01803",
   "metadata": {},
   "outputs": [],
   "source": [
    "y_pred_log = log_reg.predict(X_test_scaled)\n",
    "y_pred_knn = knn.predict(X_test_scaled)\n",
    "y_pred_dt = dt.predict(X_test)\n",
    "\n",
    "report_log = classification_report(y_test, y_pred_log, output_dict=True)\n",
    "report_knn = classification_report(y_test, y_pred_knn, output_dict=True)\n",
    "report_dt = classification_report(y_test, y_pred_dt, output_dict=True)\n",
    "\n",
    "df_log = pd.DataFrame(report_log).transpose()\n",
    "df_knn = pd.DataFrame(report_knn).transpose()\n",
    "df_dt = pd.DataFrame(report_dt).transpose()"
   ]
  },
  {
   "cell_type": "markdown",
   "id": "02392ffb",
   "metadata": {},
   "source": [
    "## Confusion Matrices"
   ]
  },
  {
   "cell_type": "code",
   "execution_count": null,
   "id": "fd9b03f7",
   "metadata": {},
   "outputs": [],
   "source": [
    "cm_log = confusion_matrix(y_test, y_pred_log)\n",
    "cm_knn = confusion_matrix(y_test, y_pred_knn)\n",
    "cm_dt = confusion_matrix(y_test, y_pred_dt)\n",
    "\n",
    "fig, axes = plt.subplots(1, 3, figsize=(18, 5))\n",
    "sns.heatmap(cm_log, annot=True, fmt='d', cmap='Blues', ax=axes[0])\n",
    "axes[0].set_title('Confusion Matrix: Logistic Regression')\n",
    "sns.heatmap(cm_knn, annot=True, fmt='d', cmap='Greens', ax=axes[1])\n",
    "axes[1].set_title('Confusion Matrix: k-NN')\n",
    "sns.heatmap(cm_dt, annot=True, fmt='d', cmap='Oranges', ax=axes[2])\n",
    "axes[2].set_title('Confusion Matrix: Decision Tree')\n",
    "plt.tight_layout()\n",
    "plt.show()"
   ]
  },
  {
   "cell_type": "markdown",
   "id": "649822ab",
   "metadata": {},
   "source": [
    "## Correlation Heatmap"
   ]
  },
  {
   "cell_type": "code",
   "execution_count": null,
   "id": "fab1447c",
   "metadata": {},
   "outputs": [],
   "source": [
    "plt.figure(figsize=(12, 10))\n",
    "sns.heatmap(X.corr(), cmap='coolwarm', annot=False)\n",
    "plt.title('Feature Correlation Heatmap - Wine Dataset')\n",
    "plt.show()"
   ]
  },
  {
   "cell_type": "markdown",
   "id": "5a9703fe",
   "metadata": {},
   "source": [
    "## Macro Average Metrics Comparison"
   ]
  },
  {
   "cell_type": "code",
   "execution_count": null,
   "id": "31cbe281",
   "metadata": {},
   "outputs": [],
   "source": [
    "metrics = ['precision', 'recall', 'f1-score']\n",
    "avg_scores = {\n",
    "    'Logistic Regression': [df_log.loc['macro avg', m] for m in metrics],\n",
    "    'k-NN': [df_knn.loc['macro avg', m] for m in metrics],\n",
    "    'Decision Tree': [df_dt.loc['macro avg', m] for m in metrics]\n",
    "}\n",
    "df_avg_scores = pd.DataFrame(avg_scores, index=metrics)\n",
    "df_avg_scores.plot(kind='bar', figsize=(10, 6))\n",
    "plt.title('Macro Average Precision, Recall, and F1-Score Comparison')\n",
    "plt.ylabel('Score')\n",
    "plt.ylim(0, 1)\n",
    "plt.legend(loc='lower right')\n",
    "plt.tight_layout()\n",
    "plt.show()"
   ]
  }
 ],
 "metadata": {},
 "nbformat": 4,
 "nbformat_minor": 5
}